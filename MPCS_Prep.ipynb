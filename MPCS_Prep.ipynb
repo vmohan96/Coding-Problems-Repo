{
 "cells": [
  {
   "cell_type": "markdown",
   "metadata": {},
   "source": [
    "## Honour Thy (Apaxian) Parent\n",
    "\n",
    "\n",
    "While breaking ground for the Obama Presidential Center, which will be located just a few blocks from campus in Jackson Park, archeologists from the Oriental Institute have made an astounding discovery: a new set of scrolls from the ancient and certainly not made-up Apaxian civilization!\n",
    "\n",
    "It seems that the Apaxian civilization, which the Oriental Institute is starting to suspect may have been way too concerned with string manipulation, provided a way for young Apaxians to extend their name using the name of one of their parents. The basic principle was to take an Apaxian name Y\n",
    ", add ex, and then the name P of one of the parents. For example, if Y is menolaxios and P is mox, the extended name is menolaxios+ex+mox=menolaxiosexmox\n",
    "\n",
    "However, there were a few exceptions to this rule:\n",
    "\n",
    "    If Y ends with e, then the extended name is Y+x+P\n",
    "\n",
    "    If Y ends with any other vowel (a,i,o, or u), we remove that final vowel from Y, and then extend Y with ex+P\n",
    "\n",
    "    If Y already ends with ex, then the extended name is simply Y+P\n",
    "\n",
    "    \n",
    "\n",
    "As usual, the Oriental Institute has asked us to help them apply the power of computation to generating these extended names."
   ]
  },
  {
   "cell_type": "code",
   "execution_count": null,
   "metadata": {},
   "outputs": [],
   "source": []
  },
  {
   "cell_type": "code",
   "execution_count": null,
   "metadata": {},
   "outputs": [],
   "source": []
  },
  {
   "cell_type": "code",
   "execution_count": null,
   "metadata": {},
   "outputs": [],
   "source": []
  }
 ],
 "metadata": {
  "kernelspec": {
   "display_name": "Python 3",
   "language": "python",
   "name": "python3"
  },
  "language_info": {
   "codemirror_mode": {
    "name": "ipython",
    "version": 3
   },
   "file_extension": ".py",
   "mimetype": "text/x-python",
   "name": "python",
   "nbconvert_exporter": "python",
   "pygments_lexer": "ipython3",
   "version": "3.8.3"
  }
 },
 "nbformat": 4,
 "nbformat_minor": 4
}
